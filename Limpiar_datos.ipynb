{
  "nbformat": 4,
  "nbformat_minor": 0,
  "metadata": {
    "colab": {
      "provenance": [],
      "authorship_tag": "ABX9TyMinnSw8u+cVgEYXsos0SeW",
      "include_colab_link": true
    },
    "kernelspec": {
      "name": "python3",
      "display_name": "Python 3"
    },
    "language_info": {
      "name": "python"
    }
  },
  "cells": [
    {
      "cell_type": "markdown",
      "metadata": {
        "id": "view-in-github",
        "colab_type": "text"
      },
      "source": [
        "<a href=\"https://colab.research.google.com/github/lizsolano/Optativa_profesionalizante_I/blob/main/Limpiar_datos.ipynb\" target=\"_parent\"><img src=\"https://colab.research.google.com/assets/colab-badge.svg\" alt=\"Open In Colab\"/></a>"
      ]
    },
    {
      "cell_type": "markdown",
      "source": [
        "# **Ejercicio 3**"
      ],
      "metadata": {
        "id": "-cWRHfNweFf4"
      }
    },
    {
      "cell_type": "markdown",
      "source": [
        "# NumPy: Librería Fundamental para Computación Científica en Python\n",
        "\n",
        "***NumPy (Numerical Python)*** es una librería fundamental para la computación científica en Python. Es la base de muchas otras librerías y herramientas en el ecosistema de ciencia de datos y aprendizaje automático de Python.\n",
        "\n",
        "## Características Principales\n",
        "\n",
        "1. **Arrays Multidimensionales**: NumPy introduce el objeto ndarray (n-dimensional array), que permite crear y manipular arrays de cualquier dimensión de manera eficiente.\n",
        "\n",
        "2. **Operaciones Vectorizadas**: Permite realizar operaciones en arrays completos sin necesidad de bucles explícitos, lo que resulta en un código más limpio y eficiente.\n",
        "\n",
        "3. **Funciones Matemáticas**: Proporciona una amplia gama de funciones matemáticas que operan directamente sobre arrays.\n",
        "\n",
        "4. **Álgebra Lineal**: Incluye funciones para operaciones de álgebra lineal como producto de matrices, descomposición en valores singulares, etc.\n",
        "\n",
        "5. **Generación de Números Aleatorios**: Ofrece herramientas para generar números aleatorios y muestras de diferentes distribuciones probabilísticas.\n",
        "\n",
        "6. **Transformadas de Fourier**: Proporciona funciones para realizar transformadas de Fourier y otras operaciones en el dominio de la frecuencia.\n",
        "\n",
        "7. **Integración con C/C++ y Fortran**: Permite una fácil integración con código escrito en lenguajes de bajo nivel para tareas intensivas en cálculo.\n",
        "\n",
        "## Ventajas de NumPy\n",
        "\n",
        "- **Eficiencia**: Las operaciones en arrays de NumPy son mucho más rápidas que las listas de Python estándar.\n",
        "- **Menos Código*"
      ],
      "metadata": {
        "id": "I2hxFmWBdJl2"
      }
    },
    {
      "cell_type": "markdown",
      "source": [
        "## Cargamos librerías pandas y numpy"
      ],
      "metadata": {
        "id": "MyLU0wXcdVNs"
      }
    },
    {
      "cell_type": "code",
      "source": [
        "import pandas as pd\n",
        "import numpy as np"
      ],
      "metadata": {
        "id": "3MG8iWH8dYzy"
      },
      "execution_count": null,
      "outputs": []
    },
    {
      "cell_type": "markdown",
      "source": [
        "# Crear un DataFrame con datos sucios"
      ],
      "metadata": {
        "id": "5Tzp6wuodbLA"
      }
    },
    {
      "cell_type": "code",
      "source": [
        "df = pd.DataFrame({\n",
        "    'A': [1, 2, np.nan, 4, 5],\n",
        "    'B': [5, 6, 7, np.nan, 9],\n",
        "    'C': ['a', 'b', 'c', 'd', 'e'],\n",
        "    'D': ['foo', 'bar', 'foo', 'bar', 'foo']\n",
        "})\n",
        "\n",
        "print(\"DataFrame original:\")\n",
        "print(df)"
      ],
      "metadata": {
        "colab": {
          "base_uri": "https://localhost:8080/"
        },
        "id": "PF4zrUD-deZQ",
        "outputId": "446377a3-e4f3-4c33-8171-88e7dbe7f436"
      },
      "execution_count": null,
      "outputs": [
        {
          "output_type": "stream",
          "name": "stdout",
          "text": [
            "DataFrame original:\n",
            "     A    B  C    D\n",
            "0  1.0  5.0  a  foo\n",
            "1  2.0  6.0  b  bar\n",
            "2  NaN  7.0  c  foo\n",
            "3  4.0  NaN  d  bar\n",
            "4  5.0  9.0  e  foo\n"
          ]
        }
      ]
    },
    {
      "cell_type": "markdown",
      "source": [
        "# Eliminar filas con valores nulos"
      ],
      "metadata": {
        "id": "g55xzlyUdhRi"
      }
    },
    {
      "cell_type": "code",
      "source": [
        "df_clean = df.dropna()\n",
        "print(\"\\nDataFrame sin filas nulas:\")\n",
        "print(df_clean)"
      ],
      "metadata": {
        "colab": {
          "base_uri": "https://localhost:8080/"
        },
        "id": "Klr7D3epdjoi",
        "outputId": "d08a7b7c-4bec-45fc-9e09-f98dfcbba5cb"
      },
      "execution_count": null,
      "outputs": [
        {
          "output_type": "stream",
          "name": "stdout",
          "text": [
            "\n",
            "DataFrame sin filas nulas:\n",
            "     A    B  C    D\n",
            "0  1.0  5.0  a  foo\n",
            "1  2.0  6.0  b  bar\n",
            "4  5.0  9.0  e  foo\n"
          ]
        }
      ]
    },
    {
      "cell_type": "markdown",
      "source": [
        "# Rellenar valores nulos"
      ],
      "metadata": {
        "id": "Znvx86r6dlaQ"
      }
    },
    {
      "cell_type": "code",
      "source": [
        "df_filled = df.fillna(value={'A': df['A'].mean(), 'B': df['B'].median()})\n",
        "print(\"\\nDataFrame con valores nulos rellenados:\")\n",
        "print(df_filled)"
      ],
      "metadata": {
        "colab": {
          "base_uri": "https://localhost:8080/"
        },
        "id": "T4HKKkahdnlJ",
        "outputId": "5c4328fa-4ac1-41c2-d6f0-d0f6e101ff77"
      },
      "execution_count": null,
      "outputs": [
        {
          "output_type": "stream",
          "name": "stdout",
          "text": [
            "\n",
            "DataFrame con valores nulos rellenados:\n",
            "     A    B  C    D\n",
            "0  1.0  5.0  a  foo\n",
            "1  2.0  6.0  b  bar\n",
            "2  3.0  7.0  c  foo\n",
            "3  4.0  6.5  d  bar\n",
            "4  5.0  9.0  e  foo\n"
          ]
        }
      ]
    },
    {
      "cell_type": "markdown",
      "source": [
        "# Eliminar duplicados"
      ],
      "metadata": {
        "id": "y6j0R-wcdpiR"
      }
    },
    {
      "cell_type": "code",
      "source": [
        "df_no_duplicates = df.drop_duplicates(subset=['D'])\n",
        "print(\"\\nDataFrame sin duplicados en la columna D:\")\n",
        "print(df_no_duplicates)"
      ],
      "metadata": {
        "colab": {
          "base_uri": "https://localhost:8080/"
        },
        "id": "GXK8BfXhdrXQ",
        "outputId": "e059aa9a-15c6-49d7-daef-fd9ec1982688"
      },
      "execution_count": null,
      "outputs": [
        {
          "output_type": "stream",
          "name": "stdout",
          "text": [
            "\n",
            "DataFrame sin duplicados en la columna D:\n",
            "     A    B  C    D\n",
            "0  1.0  5.0  a  foo\n",
            "1  2.0  6.0  b  bar\n"
          ]
        }
      ]
    },
    {
      "cell_type": "markdown",
      "source": [
        "# Renombrar columnas"
      ],
      "metadata": {
        "id": "TJyIQNuTdtNB"
      }
    },
    {
      "cell_type": "code",
      "execution_count": null,
      "metadata": {
        "colab": {
          "base_uri": "https://localhost:8080/"
        },
        "id": "SyrGRktddHce",
        "outputId": "a48f5f07-4c07-4978-d3f0-616d00cbf4aa"
      },
      "outputs": [
        {
          "output_type": "stream",
          "name": "stdout",
          "text": [
            "\n",
            "DataFrame con columnas renombradas:\n",
            "   Alpha  Beta Charlie Delta\n",
            "0    1.0   5.0       a   foo\n",
            "1    2.0   6.0       b   bar\n",
            "2    NaN   7.0       c   foo\n",
            "3    4.0   NaN       d   bar\n",
            "4    5.0   9.0       e   foo\n"
          ]
        }
      ],
      "source": [
        "df_renamed = df.rename(columns={'A': 'Alpha', 'B': 'Beta', 'C': 'Charlie', 'D': 'Delta'})\n",
        "print(\"\\nDataFrame con columnas renombradas:\")\n",
        "print(df_renamed)"
      ]
    }
  ]
}