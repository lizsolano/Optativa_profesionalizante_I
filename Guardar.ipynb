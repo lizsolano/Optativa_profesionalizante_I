{
  "nbformat": 4,
  "nbformat_minor": 0,
  "metadata": {
    "colab": {
      "provenance": [],
      "authorship_tag": "ABX9TyMH7kwyRPzLzlI6mL+ELr2w",
      "include_colab_link": true
    },
    "kernelspec": {
      "name": "python3",
      "display_name": "Python 3"
    },
    "language_info": {
      "name": "python"
    }
  },
  "cells": [
    {
      "cell_type": "markdown",
      "metadata": {
        "id": "view-in-github",
        "colab_type": "text"
      },
      "source": [
        "<a href=\"https://colab.research.google.com/github/lizsolano/Optativa_profesionalizante_I/blob/main/Guardar.ipynb\" target=\"_parent\"><img src=\"https://colab.research.google.com/assets/colab-badge.svg\" alt=\"Open In Colab\"/></a>"
      ]
    },
    {
      "cell_type": "markdown",
      "source": [
        "# ***Ejercicio 2***"
      ],
      "metadata": {
        "id": "jbVmipN3RluN"
      }
    },
    {
      "cell_type": "markdown",
      "source": [
        "\n",
        "\n",
        "---\n",
        "# ***Importando Librerías***\n",
        "\n"
      ],
      "metadata": {
        "id": "-M_IbgIyRrQM"
      }
    },
    {
      "cell_type": "markdown",
      "source": [
        "# ***pandas***\n",
        "\n",
        "***Pandas*** es una poderosa biblioteca de Python ampliamente utilizada para el análisis y manipulación de datos. Aquí te presento una explicación concisa de los aspectos más importantes de Pandas:\n",
        "\n",
        "###Estructuras de datos principales\n",
        "Pandas proporciona dos estructuras de datos fundamentales:\n",
        "\n",
        "1.   Series: Array unidimensional etiquetado que puede contener cualquier tipo de dato.\n",
        "2.   DataFrame: Estructura bidimensional similar a una tabla, con filas y columnas etiquetadas.\n",
        "\n",
        "#Funcionalidades clave\n",
        "Lectura y escritura de datos: Permite importar y exportar datos de diversos formatos como CSV, Excel, SQL, JSON, etc.\n",
        "Limpieza de datos: Ofrece métodos para manejar valores faltantes, eliminar duplicados y transformar datos.\n",
        "Indexación y selección: Proporciona formas flexibles de acceder y filtrar datos usando etiquetas o condiciones booleanas.\n",
        "Operaciones de fusión y agrupación: Facilita la combinación de múltiples conjuntos de datos y la realización de operaciones de agregación.\n",
        "Reestructuración: Permite pivotar, apilar y desapilar datos para cambiar su forma.\n",
        "Funciones de tiempo: Incluye herramientas especializadas para trabajar con datos de series temporales.\n",
        "\n",
        "*   **Lectura y escritura de datos:** Permite importar y exportar datos de diversos formatos como CSV, Excel, SQL, JSON, etc.\n",
        "*  **Limpieza de datos:** Ofrece métodos para manejar valores faltantes, eliminar duplicados y transformar datos\n",
        "*   **Indexación y selección:** Proporciona formas flexibles de acceder y filtrar datos usando etiquetas o condiciones booleanas\n",
        "*   **Operaciones de fusión y agrupación:** Facilita la combinación de múltiples conjuntos de datos y la realización de operaciones de agregación\n",
        "*  **Reestructuración:** Permite pivotar, apilar y desapilar datos para cambiar su forma\n",
        "*  **Funciones de tiempo:** Incluye herramientas especializadas para trabajar con datos de series temporales.\n",
        "\n",
        "### Ventajas\n",
        "\n",
        "*   Integración sencilla con otras bibliotecas científicas de Python.\n",
        "*   Potentes capacidades de visualización cuando se combina con bibliotecas como Matplotlib\n",
        "*   Eficiencia en el manejo de grandes conjuntos de datos\n",
        "\n",
        "\n",
        "\n",
        "---\n",
        "\n"
      ],
      "metadata": {
        "id": "p0g6jUuVRtoV"
      }
    },
    {
      "cell_type": "markdown",
      "source": [
        "Cargar librería ***pandas*** a usar"
      ],
      "metadata": {
        "id": "W2wVJHzmUaRD"
      }
    },
    {
      "cell_type": "code",
      "source": [
        "import pandas as pd\n"
      ],
      "metadata": {
        "id": "HhQx_5VGUYxe"
      },
      "execution_count": 1,
      "outputs": []
    },
    {
      "cell_type": "markdown",
      "source": [
        "# Crear un DataFrame de ejemplo"
      ],
      "metadata": {
        "id": "yqpsN5Tn_pCH"
      }
    },
    {
      "cell_type": "code",
      "source": [
        "df = pd.DataFrame({\n",
        "    'Nombre': ['Ana', 'Juan', 'María', 'Carlos'],\n",
        "    'Edad': [25, 30, 22, 28],\n",
        "    'Ciudad': ['Madrid', 'Barcelona', 'Sevilla', 'Valencia']\n",
        "})\n"
      ],
      "metadata": {
        "id": "R7VUA6JN_shX"
      },
      "execution_count": null,
      "outputs": []
    },
    {
      "cell_type": "markdown",
      "source": [
        "# Guardar el DataFrame en diferentes formatos"
      ],
      "metadata": {
        "id": "VhSPKJHi_uEv"
      }
    },
    {
      "cell_type": "code",
      "source": [
        "df.to_csv('datos.csv', index=False)\n",
        "df.to_excel('datos.xlsx', index=False)\n",
        "df.to_json('datos.json', orient='records')\n"
      ],
      "metadata": {
        "id": "DXEiCFBZ_xDd"
      },
      "execution_count": null,
      "outputs": []
    },
    {
      "cell_type": "markdown",
      "source": [
        "# Cargar datos desde diferentes formatos"
      ],
      "metadata": {
        "id": "fWO4onUO_zMg"
      }
    },
    {
      "cell_type": "code",
      "source": [
        "df_csv = pd.read_csv('datos.csv')\n",
        "df_excel = pd.read_excel('datos.xlsx')\n",
        "df_json = pd.read_json('datos.json')\n"
      ],
      "metadata": {
        "id": "cyD7IE2F_19v"
      },
      "execution_count": null,
      "outputs": []
    },
    {
      "cell_type": "markdown",
      "source": [
        "#Imprimir resultados"
      ],
      "metadata": {
        "id": "HvqLBs7v_4cu"
      }
    },
    {
      "cell_type": "code",
      "execution_count": 2,
      "metadata": {
        "colab": {
          "base_uri": "https://localhost:8080/"
        },
        "id": "XlJVR4i8Rh1E",
        "outputId": "148d0978-ae49-446d-8c9a-35be6cb57336"
      },
      "outputs": [
        {
          "output_type": "stream",
          "name": "stdout",
          "text": [
            "DataFrame cargado desde CSV:\n",
            "   Nombre  Edad     Ciudad\n",
            "0     Ana    25     Madrid\n",
            "1    Juan    30  Barcelona\n",
            "2   María    22    Sevilla\n",
            "3  Carlos    28   Valencia\n",
            "\n",
            "DataFrame cargado desde Excel:\n",
            "   Nombre  Edad     Ciudad\n",
            "0     Ana    25     Madrid\n",
            "1    Juan    30  Barcelona\n",
            "2   María    22    Sevilla\n",
            "3  Carlos    28   Valencia\n",
            "\n",
            "DataFrame cargado desde JSON:\n",
            "   Nombre  Edad     Ciudad\n",
            "0     Ana    25     Madrid\n",
            "1    Juan    30  Barcelona\n",
            "2   María    22    Sevilla\n",
            "3  Carlos    28   Valencia\n"
          ]
        }
      ],
      "source": [
        "print(\"DataFrame cargado desde CSV:\")\n",
        "print(df_csv)\n",
        "print(\"\\nDataFrame cargado desde Excel:\")\n",
        "print(df_excel)\n",
        "print(\"\\nDataFrame cargado desde JSON:\")\n",
        "print(df_json)"
      ]
    }
  ]
}