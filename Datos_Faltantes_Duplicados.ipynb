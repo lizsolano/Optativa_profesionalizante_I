{
  "nbformat": 4,
  "nbformat_minor": 0,
  "metadata": {
    "colab": {
      "provenance": [],
      "authorship_tag": "ABX9TyM9DWRMdFXWoOt+vF23SAEo",
      "include_colab_link": true
    },
    "kernelspec": {
      "name": "python3",
      "display_name": "Python 3"
    },
    "language_info": {
      "name": "python"
    }
  },
  "cells": [
    {
      "cell_type": "markdown",
      "metadata": {
        "id": "view-in-github",
        "colab_type": "text"
      },
      "source": [
        "<a href=\"https://colab.research.google.com/github/lizsolano/Optativa_profesionalizante_I/blob/main/Datos_Faltantes_Duplicados.ipynb\" target=\"_parent\"><img src=\"https://colab.research.google.com/assets/colab-badge.svg\" alt=\"Open In Colab\"/></a>"
      ]
    },
    {
      "cell_type": "markdown",
      "source": [
        "# Ejercicio 5"
      ],
      "metadata": {
        "id": "qeB2OQdtgHD4"
      }
    },
    {
      "cell_type": "markdown",
      "source": [
        "#*** Datos Faltantes y Duplicados***"
      ],
      "metadata": {
        "id": "SgAZhTBZgG2K"
      }
    },
    {
      "cell_type": "code",
      "execution_count": null,
      "metadata": {
        "id": "884Ve-xKgGFh"
      },
      "outputs": [],
      "source": [
        "import pandas as pd\n",
        "import numpy as np"
      ]
    },
    {
      "cell_type": "markdown",
      "source": [
        "# Crear un DataFrame con datos faltantes y duplicados"
      ],
      "metadata": {
        "id": "MRA0he0XgZ1p"
      }
    },
    {
      "cell_type": "code",
      "source": [
        "df = pd.DataFrame({\n",
        "    'A': [1, 2, np.nan, 4, 5, 5],\n",
        "    'B': [5, 6, 7, np.nan, 9, 9],\n",
        "    'C': ['a', 'b', 'c', 'd', 'e', 'e']\n",
        "})\n",
        "\n",
        "print(\"DataFrame original:\")\n",
        "print(df)"
      ],
      "metadata": {
        "id": "OnxbKVkzgb6R"
      },
      "execution_count": null,
      "outputs": []
    },
    {
      "cell_type": "markdown",
      "source": [
        "# Identificar valores faltantes"
      ],
      "metadata": {
        "id": "Qu9NnEDngd3y"
      }
    },
    {
      "cell_type": "code",
      "source": [
        "print(\"\\nValores faltantes:\")\n",
        "print(df.isnull().sum())"
      ],
      "metadata": {
        "id": "PoECRQZ2geER"
      },
      "execution_count": null,
      "outputs": []
    },
    {
      "cell_type": "markdown",
      "source": [
        "# Eliminar filas con valores faltantes"
      ],
      "metadata": {
        "id": "7gN2Kkewgl6Y"
      }
    },
    {
      "cell_type": "code",
      "source": [
        "df_drop_na = df.dropna()\n",
        "print(\"\\nDataFrame sin filas con valores faltantes:\")\n",
        "print(df_drop_na)"
      ],
      "metadata": {
        "id": "jXzfuMSngmNo"
      },
      "execution_count": null,
      "outputs": []
    },
    {
      "cell_type": "markdown",
      "source": [
        "# Rellenar valores faltantes"
      ],
      "metadata": {
        "id": "pndvczeHgt7h"
      }
    },
    {
      "cell_type": "code",
      "source": [
        "df_fill_na = df.fillna(value={'A': df['A'].mean(), 'B': df['B'].median()})\n",
        "print(\"\\nDataFrame con valores faltantes rellenados:\")\n",
        "print(df_fill_na)"
      ],
      "metadata": {
        "id": "BIoEGxbYguEx"
      },
      "execution_count": null,
      "outputs": []
    },
    {
      "cell_type": "markdown",
      "source": [
        "# Identificar duplicados"
      ],
      "metadata": {
        "id": "YGK287kggtkw"
      }
    },
    {
      "cell_type": "code",
      "source": [
        "print(\"\\nFilas duplicadas:\")\n",
        "print(df.duplicated().sum())"
      ],
      "metadata": {
        "id": "G5HC8kJkgtuJ"
      },
      "execution_count": null,
      "outputs": []
    },
    {
      "cell_type": "markdown",
      "source": [
        "# Eliminar duplicados"
      ],
      "metadata": {
        "id": "4SxoRF4mgtDx"
      }
    },
    {
      "cell_type": "code",
      "source": [
        "df_drop_duplicates = df.drop_duplicates()\n",
        "print(\"\\nDataFrame sin filas duplicadas:\")\n",
        "print(df_drop_duplicates)"
      ],
      "metadata": {
        "id": "EqbobUDrgWwh"
      },
      "execution_count": null,
      "outputs": []
    }
  ]
}