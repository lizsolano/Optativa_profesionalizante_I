{
  "nbformat": 4,
  "nbformat_minor": 0,
  "metadata": {
    "colab": {
      "provenance": [],
      "authorship_tag": "ABX9TyOAsSLAcPc+AFKtbzIgyIen",
      "include_colab_link": true
    },
    "kernelspec": {
      "name": "python3",
      "display_name": "Python 3"
    },
    "language_info": {
      "name": "python"
    }
  },
  "cells": [
    {
      "cell_type": "markdown",
      "metadata": {
        "id": "view-in-github",
        "colab_type": "text"
      },
      "source": [
        "<a href=\"https://colab.research.google.com/github/lizsolano/Optativa_profesionalizante_I/blob/main/Analisis_BD.ipynb\" target=\"_parent\"><img src=\"https://colab.research.google.com/assets/colab-badge.svg\" alt=\"Open In Colab\"/></a>"
      ]
    },
    {
      "cell_type": "markdown",
      "source": [],
      "metadata": {
        "id": "nyJ0TENib8E1"
      }
    },
    {
      "cell_type": "code",
      "execution_count": 1,
      "metadata": {
        "id": "webp1u2db5zb"
      },
      "outputs": [],
      "source": [
        "import pandas as pd\n",
        "import matplotlib.pyplot as plt\n",
        "import seaborn as sns\n",
        "import os\n",
        "import requests\n",
        "from io import StringIO\n",
        "\n"
      ]
    },
    {
      "cell_type": "code",
      "source": [
        "# Función para cargar el archivo CSV\n",
        "def load_csv(source):\n",
        "    if source.startswith('http'):\n",
        "        # Si es una URL de GitHub\n",
        "        response = requests.get(source)\n",
        "        return pd.read_csv(StringIO(response.text))\n",
        "    else:\n",
        "        # Si es una ruta local\n",
        "        return pd.read_csv(source)"
      ],
      "metadata": {
        "id": "0bOs_FBicyBs"
      },
      "execution_count": 14,
      "outputs": []
    },
    {
      "cell_type": "code",
      "source": [
        "# Ruta del archivo (elige una de las siguientes opciones)\n",
        "# Opción 1: Ruta local\n",
        "# Usa barras normales o dobles barras invertidas para rutas en Windows\n",
        "#file_path = 'C:/Users/TuUsuario/Documents/student_performance.csv'\n",
        "file_path = 'C:/BD ejercicios python/student_performance.csv'\n",
        "print(file_path)\n",
        "# O así:\n",
        "# file_path = 'C:\\\\Users\\\\TuUsuario\\\\Documents\\\\student_performance.csv'\n",
        "\n",
        "# Para sistemas Unix/Linux/MacOS:\n",
        "# file_path = '/home/tuusuario/documentos/student_performance.csv'\n",
        "\n",
        "# Opción 2: URL de GitHub (raw)\n",
        "# file_path = 'https://raw.githubusercontent.com/usuario/repositorio/main/student_performance.csv'"
      ],
      "metadata": {
        "colab": {
          "base_uri": "https://localhost:8080/"
        },
        "id": "DcO7g68Iq5uX",
        "outputId": "08ef7f5d-1817-45c8-c17c-e08e36ab39b7"
      },
      "execution_count": 15,
      "outputs": [
        {
          "output_type": "stream",
          "name": "stdout",
          "text": [
            "C:/BD ejercicios python/student_performance.csv\n"
          ]
        }
      ]
    },
    {
      "cell_type": "code",
      "source": [
        "if not os.path.exists(file_path):\n",
        "    print(f\"Error: El archivo no existe en la ruta especificada: {file_path}\")\n",
        "else:\n",
        "    print(f\"El archivo existe en la ruta especificada.\")\n",
        "\n",
        "    # Intenta leer el archivo CSV\n",
        "    try:\n",
        "        df = pd.read_csv(file_path)\n",
        "        print(f\"El archivo se ha leído correctamente. Dimensiones del DataFrame: {df.shape}\")\n",
        "\n",
        "        # Muestra las primeras filas para verificar\n",
        "        print(\"\\nPrimeras filas del DataFrame:\")\n",
        "        print(df.head())\n",
        "\n",
        "# Cargar el archivo CSV\n",
        "#df = load_csv(file_path)\n",
        "\n",
        "\n",
        "## Leer el archivo CSV\n",
        "#df = pd.read_csv(file_path)"
      ],
      "metadata": {
        "colab": {
          "base_uri": "https://localhost:8080/",
          "height": 106
        },
        "id": "bZdsg2rzb_mM",
        "outputId": "2ffc38fc-e18b-438c-b4c8-0c251434f3bc"
      },
      "execution_count": 17,
      "outputs": [
        {
          "output_type": "error",
          "ename": "SyntaxError",
          "evalue": "incomplete input (<ipython-input-17-30540682e95c>, line 20)",
          "traceback": [
            "\u001b[0;36m  File \u001b[0;32m\"<ipython-input-17-30540682e95c>\"\u001b[0;36m, line \u001b[0;32m20\u001b[0m\n\u001b[0;31m    #df = pd.read_csv(file_path)\u001b[0m\n\u001b[0m                                ^\u001b[0m\n\u001b[0;31mSyntaxError\u001b[0m\u001b[0;31m:\u001b[0m incomplete input\n"
          ]
        }
      ]
    },
    {
      "cell_type": "code",
      "source": [
        "\n",
        "# 1. Gráfico de barras: Calificación final promedio por género\n",
        "plt.figure(figsize=(10, 6))\n",
        "df.groupby('Gender')['FinalGrade'].mean().plot(kind='bar')\n",
        "plt.title('Calificación Final Promedio por Género')\n",
        "plt.xlabel('Género')\n",
        "plt.ylabel('Calificación Final Promedio')\n",
        "plt.savefig('barras_genero_calificacion.png')\n",
        "plt.close()"
      ],
      "metadata": {
        "id": "sVLvQ3obcCcj"
      },
      "execution_count": null,
      "outputs": []
    },
    {
      "cell_type": "code",
      "source": [
        "# 2. Histograma: Distribución de las calificaciones finales\n",
        "plt.figure(figsize=(10, 6))\n",
        "plt.hist(df['FinalGrade'], bins=10, edgecolor='black')\n",
        "plt.title('Distribución de Calificaciones Finales')\n",
        "plt.xlabel('Calificación Final')\n",
        "plt.ylabel('Frecuencia')\n",
        "plt.savefig('histograma_calificaciones.png')\n",
        "plt.close()"
      ],
      "metadata": {
        "id": "RlpEd7VTcEd0"
      },
      "execution_count": null,
      "outputs": []
    },
    {
      "cell_type": "code",
      "source": [
        "# 3. Gráfico de dispersión: Horas de estudio vs Calificación final\n",
        "plt.figure(figsize=(10, 6))\n",
        "plt.scatter(df['StudyHoursPerWeek'], df['FinalGrade'])\n",
        "plt.title('Horas de Estudio vs Calificación Final')\n",
        "plt.xlabel('Horas de Estudio por Semana')\n",
        "plt.ylabel('Calificación Final')\n",
        "plt.savefig('dispersion_horas_calificacion.png')\n",
        "plt.close()"
      ],
      "metadata": {
        "id": "ZK0HKhEKcHgc"
      },
      "execution_count": null,
      "outputs": []
    },
    {
      "cell_type": "code",
      "source": [
        "# 4. Mapa de calor: Correlación entre variables numéricas\n",
        "plt.figure(figsize=(12, 10))\n",
        "numeric_cols = ['AttendanceRate', 'StudyHoursPerWeek', 'PreviousGrade', 'ExtracurricularActivities', 'FinalGrade']\n",
        "sns.heatmap(df[numeric_cols].corr(), annot=True, cmap='coolwarm')\n",
        "plt.title('Mapa de Calor: Correlación entre Variables')\n",
        "plt.savefig('mapa_calor_correlacion.png')\n",
        "plt.close()"
      ],
      "metadata": {
        "id": "ea-0gEbNcJEU"
      },
      "execution_count": null,
      "outputs": []
    },
    {
      "cell_type": "code",
      "source": [
        "\n",
        "\n",
        "# 5. Gráfico de caja: Calificación final por nivel de apoyo parental\n",
        "plt.figure(figsize=(10, 6))\n",
        "sns.boxplot(x='ParentalSupport', y='FinalGrade', data=df)\n",
        "plt.title('Calificación Final por Nivel de Apoyo Parental')\n",
        "plt.xlabel('Nivel de Apoyo Parental')\n",
        "plt.ylabel('Calificación Final')\n",
        "plt.savefig('caja_apoyo_calificacion.png')\n",
        "plt.close()\n",
        "\n",
        "print(\"Gráficos generados y guardados como archivos PNG.\")"
      ],
      "metadata": {
        "id": "3u8zLmz6b9Hd"
      },
      "execution_count": null,
      "outputs": []
    }
  ]
}